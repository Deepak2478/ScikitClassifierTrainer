{
 "cells": [
  {
   "cell_type": "code",
   "execution_count": 9,
   "metadata": {},
   "outputs": [],
   "source": [
    "import numpy as np\n",
    "import pandas as pd\n",
    "from sklearn import tree\n",
    "from sklearn.metrics import accuracy_score\n",
    "from sklearn.cross_validation import train_test_split\n",
    "from sklearn.externals import joblib\n",
    "from flask import Flask, jsonify\n",
    "from flask import request\n",
    "import json\n",
    "from sklearn.model_selection import cross_val_score,cross_val_predict\n",
    "from sklearn.metrics import confusion_matrix\n",
    "from sklearn.ensemble import RandomForestClassifier\n",
    "from flask_cors import CORS, cross_origin"
   ]
  },
  {
   "cell_type": "code",
   "execution_count": 10,
   "metadata": {
    "scrolled": false
   },
   "outputs": [],
   "source": [
    "app = Flask(__name__)\n",
    "CORS(app)\n",
    "@app.route('/train', methods=['POST'])\n",
    "#@crossdomain(origin='*')\n",
    "def train():\n",
    "    #from IPython.core.debugger import Tracer; Tracer()() \n",
    "     #json_ = request.json\n",
    "    #print(request.headers)\n",
    "    #print(request.json)\n",
    "    input_data = request.json\n",
    "    model_name = input_data['modelName']\n",
    "    model_type = input_data['modelType']\n",
    "    export_model = input_data['exportFlag']\n",
    "    training_data = input_data['trainData']\n",
    "    test_data = input_data['testData']\n",
    "    training_X = list()\n",
    "    training_Y = list()\n",
    "    testing_X=list()\n",
    "    testing_Y=list()\n",
    "    \n",
    "    for i in range (len(training_data)):\n",
    "        training_X.append(list(training_data[i])[:-1])\n",
    "        training_Y.append(list(training_data[i])[-1:])\n",
    "    \n",
    "    for i in range (len(test_data)):\n",
    "        testing_X.append(list(test_data[i])[:-1])\n",
    "        testing_Y.append(list(test_data[i])[-1:])\n",
    "    \n",
    "    if model_type==\"DT\":\n",
    "        #from IPython.core.debugger import Tracer; Tracer()() \n",
    "        model = tree.DecisionTreeClassifier(criterion='gini') \n",
    "        # for classification, here you can change the algorithm as gini or entropy (information gain) by default it is gini  \n",
    "        # model = tree.DecisionTreeRegressor() for regression\n",
    "        # Train the model using the training sets and check score\n",
    "       \n",
    "    else: \n",
    "        model = RandomForestClassifier(n_jobs=2, random_state=0)\n",
    "        \n",
    "    model.fit(training_X, training_Y)\n",
    "    model_score = model.score(training_X, training_Y)\n",
    "    #Predict Output\n",
    "    predicted= model.predict(testing_X)\n",
    "    accuracy =accuracy_score(testing_Y, predicted)\n",
    "    model_location = '/home/payrollresults/Desktop/PayrollResults/exportedModels/'+model_name+'.pkl'\n",
    "    joblib.dump(model, model_location) \n",
    "    json_data = json.dumps({'accuracy' : accuracy,\n",
    "                            'score' : model_score,\n",
    "                            'location':model_location})\n",
    "    \n",
    "    return json_data\n"
   ]
  },
  {
   "cell_type": "code",
   "execution_count": 11,
   "metadata": {},
   "outputs": [],
   "source": [
    "@app.route('/predict', methods=['POST'])\n",
    "\n",
    "#@crossdomain(origin='*')\n",
    "def predict():\n",
    "     #json_ = request.json\n",
    "     #print(request.headers)\n",
    "     #print(request.json)    \n",
    "     #prediction = model.predict(request.json['wageTypes'])\n",
    "     #print(prediction[0])\n",
    "     #if prediction[0] == \"CORRECT\" :\n",
    "     #    return \"CORRECT\"\n",
    "     #else :\n",
    "    #from IPython.core.debugger import Tracer; Tracer()() \n",
    "    input_data = request.json\n",
    "    model_location = input_data['modelLocation']\n",
    "    perners = input_data['perners']\n",
    "    payPeriods = input_data['payPeriods']\n",
    "    wageTypes = input_data['wageTypes']\n",
    "   \n",
    "    model = joblib.load(model_location)\n",
    "    predictions = model.predict(wageTypes)\n",
    "    \n",
    "    json_data = json.dumps({'perners' : perners,\n",
    "                            'payPeriods' : payPeriods,\n",
    "                            'predictions':predictions.tolist()})\n",
    "    return json_data"
   ]
  },
  {
   "cell_type": "code",
   "execution_count": 12,
   "metadata": {},
   "outputs": [
    {
     "name": "stderr",
     "output_type": "stream",
     "text": [
      " * Running on http://127.0.0.1:8088/ (Press CTRL+C to quit)\n",
      "127.0.0.1 - - [17/Jan/2018 10:17:58] \"OPTIONS /predict HTTP/1.1\" 200 -\n",
      "127.0.0.1 - - [17/Jan/2018 10:17:58] \"POST /predict HTTP/1.1\" 400 -\n",
      "127.0.0.1 - - [17/Jan/2018 10:19:04] \"OPTIONS /predict HTTP/1.1\" 200 -\n",
      "127.0.0.1 - - [17/Jan/2018 10:19:04] \"POST /predict HTTP/1.1\" 400 -\n",
      "127.0.0.1 - - [17/Jan/2018 10:23:22] \"OPTIONS /predict HTTP/1.1\" 200 -\n",
      "127.0.0.1 - - [17/Jan/2018 10:23:22] \"POST /predict HTTP/1.1\" 200 -\n"
     ]
    }
   ],
   "source": [
    "if __name__ == '__main__':\n",
    "     #model = joblib.load('model.pkl')\n",
    "     app.run(port=8088)"
   ]
  },
  {
   "cell_type": "code",
   "execution_count": null,
   "metadata": {
    "collapsed": true
   },
   "outputs": [],
   "source": [
    "def generate_decision_tree(trainX,trainY,testX,testY,export_model)\n",
    "    if(export_model) \n",
    "        model = tree.DecisionTreeClassifier(criterion='gini') \n",
    "        # for classification, here you can change the algorithm as gini or entropy (information gain) by default it is gini  \n",
    "        # model = tree.DecisionTreeRegressor() for regression\n",
    "        # Train the model using the training sets and check score\n",
    "        model.fit(trainX, trainY)\n",
    "        model.score(trainX, trainY)\n",
    "        #Predict Output\n",
    "        predicted= model.predict(testX)\n",
    "        accuracy =accuracy_score(testY, predicted)\n",
    "        print(\"Accuracy:\", accuracy)\n",
    "   "
   ]
  },
  {
   "cell_type": "code",
   "execution_count": null,
   "metadata": {
    "collapsed": true
   },
   "outputs": [],
   "source": []
  }
 ],
 "metadata": {
  "kernelspec": {
   "display_name": "Python 2",
   "language": "python",
   "name": "python2"
  },
  "language_info": {
   "codemirror_mode": {
    "name": "ipython",
    "version": 2
   },
   "file_extension": ".py",
   "mimetype": "text/x-python",
   "name": "python",
   "nbconvert_exporter": "python",
   "pygments_lexer": "ipython2",
   "version": "2.7.12"
  }
 },
 "nbformat": 4,
 "nbformat_minor": 2
}
